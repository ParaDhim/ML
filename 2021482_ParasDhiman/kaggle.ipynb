{
 "cells": [
  {
   "cell_type": "code",
   "execution_count": null,
   "metadata": {},
   "outputs": [],
   "source": [
    "from google.colab import drive\n",
    "drive.mount('/content/drive')"
   ]
  },
  {
   "cell_type": "code",
   "execution_count": null,
   "metadata": {},
   "outputs": [],
   "source": [
    "import os\n",
    "import librosa\n",
    "import numpy as np\n",
    "from sklearn.mixture import GaussianMixture\n",
    "import pandas as pd\n",
    "\n",
    "data_folder = \"/content/drive/MyDrive/KAGGLE-2/SpeechCommand\"\n",
    "Class_mapping = {'right': 0, 'eight': 1, 'cat': 2, 'tree': 3, 'bed': 4, 'happy': 5, 'go': 6, 'dog': 7, 'no': 8,\n",
    "                 'wow': 9, 'nine': 10, 'left': 11, 'stop': 12, 'three': 13, 'sheila': 14, 'one': 15, 'bird': 16,\n",
    "                 'zero': 17, 'seven': 18, 'up': 19, 'marvin': 20, 'two': 21, 'house': 22, 'down': 23, 'six': 24,\n",
    "                 'yes': 25, 'on': 26, 'five': 27, 'off': 28, 'four': 29}\n",
    "\n",
    "order = 37\n",
    "fs = 16000\n",
    "frame_period = 5\n",
    "\n"
   ]
  },
  {
   "cell_type": "code",
   "execution_count": null,
   "metadata": {},
   "outputs": [],
   "source": [
    "# Function to extract features from a single audio file\n",
    "def extract_features(file_path):\n",
    "    x, fs = librosa.load(file_path)\n",
    "    x = librosa.effects.preemphasis(x)\n",
    "    \n",
    "    # Extract chroma and spectral contrast features\n",
    "    chroma = librosa.feature.chroma_stft(y=x, sr=fs)\n",
    "    spectral_contrast = librosa.feature.spectral_contrast(y=x, sr=fs)\n",
    "    \n",
    "    # MFCC features\n",
    "    mfcc = librosa.feature.mfcc(y=x, sr=fs, n_mfcc=17)\n",
    "    delta = librosa.feature.delta(mfcc)\n",
    "    delta_delta = librosa.feature.delta(mfcc, order=2)\n",
    "\n",
    "    # Combine all features\n",
    "    combined_features = np.vstack([mfcc, delta, delta_delta, chroma, spectral_contrast])\n",
    "    \n",
    "    return combined_features.T\n",
    "\n"
   ]
  },
  {
   "cell_type": "code",
   "execution_count": null,
   "metadata": {},
   "outputs": [],
   "source": [
    "def load_data_labels(path):\n",
    "    features = []\n",
    "    labels = []\n",
    "    dict1 = {}\n",
    "    dict2 = {}\n",
    "\n",
    "    i = 0\n",
    "    for word in os.listdir(path):\n",
    "        if word != \"_background_noise_\":\n",
    "            dict1[word] = i\n",
    "            dict2[i] = word\n",
    "            i += 1\n",
    "            feat = []\n",
    "            files_path = os.path.join(path, word)\n",
    "\n",
    "            for file in os.listdir(files_path):\n",
    "                file_path = os.path.join(files_path, file)\n",
    "\n",
    "                if file.endswith(\".wav\"):\n",
    "                    feat.extend(extract_features(file_path))\n",
    "                    labels.append(Class_mapping[word])\n",
    "\n",
    "            features.append(feat)\n",
    "\n",
    "    return features, labels, dict2\n",
    "\n"
   ]
  },
  {
   "cell_type": "code",
   "execution_count": null,
   "metadata": {},
   "outputs": [],
   "source": [
    "def train_models(features):\n",
    "    models = []\n",
    "    for i in range(30):\n",
    "        gm = GaussianMixture(n_components=1, random_state=0).fit(features[i])\n",
    "        models.append(gm)\n",
    "\n",
    "    return models\n",
    "\n",
    "import joblib\n",
    "\n"
   ]
  },
  {
   "cell_type": "code",
   "execution_count": null,
   "metadata": {},
   "outputs": [],
   "source": [
    "def save_models(models):\n",
    "    for i, model in enumerate(models):\n",
    "        model_filename = f\"model_{i}.pkl\"\n",
    "        joblib.dump(model, model_filename)\n",
    "\n"
   ]
  },
  {
   "cell_type": "code",
   "execution_count": null,
   "metadata": {},
   "outputs": [],
   "source": [
    "def save_dict_to_text(dict2, filename):\n",
    "    with open(filename, 'w') as file:\n",
    "        for key, value in dict2.items():\n",
    "            file.write(f\"{key}: {value}\\n\")\n",
    "\n"
   ]
  },
  {
   "cell_type": "code",
   "execution_count": null,
   "metadata": {},
   "outputs": [],
   "source": [
    "def train_and_save_models():\n",
    "    features, labels, dict2 = load_data_labels(data_folder)\n",
    "    models = train_models(features)\n",
    "    save_models(models)\n",
    "    \n",
    "    # Save dict2 to a text file\n",
    "    save_dict_to_text(dict2, \"dict2.txt\")\n",
    "\n",
    "if __name__ == \"__main__\":\n",
    "    train_and_save_models()\n"
   ]
  }
 ],
 "metadata": {
  "kernelspec": {
   "display_name": "Python 3",
   "language": "python",
   "name": "python3"
  },
  "language_info": {
   "name": "python",
   "version": "3.11.1 (v3.11.1:a7a450f84a, Dec  6 2022, 15:24:06) [Clang 13.0.0 (clang-1300.0.29.30)]"
  },
  "orig_nbformat": 4,
  "vscode": {
   "interpreter": {
    "hash": "aee8b7b246df8f9039afb4144a1f6fd8d2ca17a180786b69acc140d282b71a49"
   }
  }
 },
 "nbformat": 4,
 "nbformat_minor": 2
}
